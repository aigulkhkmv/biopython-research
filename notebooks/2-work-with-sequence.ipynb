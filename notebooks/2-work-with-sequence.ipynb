{
 "cells": [
  {
   "cell_type": "markdown",
   "id": "d26d40b8",
   "metadata": {},
   "source": [
    "## Sequence objects\n",
    "\n",
    "\n",
    "The most important difference between Seq objects and standard Python strings is they have different methods.  \n",
    "Although the Seq object supports many of the same methods as a plain string, its translate() method differs by doing biological translation, and there are also additional biologically relevant methods like reverse_complement()."
   ]
  },
  {
   "cell_type": "code",
   "execution_count": 1,
   "id": "fc9b7f9d",
   "metadata": {},
   "outputs": [],
   "source": [
    "from Bio.Seq import Seq"
   ]
  },
  {
   "cell_type": "markdown",
   "id": "1ce0a1d4",
   "metadata": {},
   "source": [
    "We can deal with Seq objects as if they were normal Python strings, for example getting the length, or iterating over the elements.  \n",
    "  \n",
    "Also note that just like a normal Python string, the Seq object is in some ways “read-only”. If you need to edit your sequence, for example simulating a point mutation, look at the Section ‍3.12 below which talks about the MutableSeq object."
   ]
  },
  {
   "cell_type": "code",
   "execution_count": 2,
   "id": "197ba34c",
   "metadata": {},
   "outputs": [
    {
     "name": "stdout",
     "output_type": "stream",
     "text": [
      "0 G\n",
      "1 A\n",
      "2 T\n",
      "3 C\n",
      "4 G\n"
     ]
    }
   ],
   "source": [
    "my_seq = Seq(\"GATCG\")\n",
    "for index, letter in enumerate(my_seq):\n",
    "    print(\"%i %s\" % (index, letter))"
   ]
  },
  {
   "cell_type": "code",
   "execution_count": 3,
   "id": "53726035",
   "metadata": {},
   "outputs": [
    {
     "name": "stdout",
     "output_type": "stream",
     "text": [
      "5\n"
     ]
    }
   ],
   "source": [
    "print(len(my_seq))"
   ]
  },
  {
   "cell_type": "code",
   "execution_count": 4,
   "id": "a9c13e85",
   "metadata": {},
   "outputs": [
    {
     "name": "stdout",
     "output_type": "stream",
     "text": [
      "G\n"
     ]
    }
   ],
   "source": [
    "print(my_seq[0])"
   ]
  },
  {
   "cell_type": "code",
   "execution_count": 6,
   "id": "fb16256f",
   "metadata": {},
   "outputs": [
    {
     "data": {
      "text/plain": [
       "2"
      ]
     },
     "execution_count": 6,
     "metadata": {},
     "output_type": "execute_result"
    }
   ],
   "source": [
    "# just like strings\n",
    "my_seq.count(\"G\")"
   ]
  },
  {
   "cell_type": "markdown",
   "id": "bf9716c8",
   "metadata": {},
   "source": [
    "## 1. Count GC % \n",
    "https://ru.wikipedia.org/wiki/GC-состав"
   ]
  },
  {
   "cell_type": "code",
   "execution_count": 8,
   "id": "2f046fdb",
   "metadata": {},
   "outputs": [
    {
     "name": "stdout",
     "output_type": "stream",
     "text": [
      "32\n",
      "9\n",
      "46.875\n"
     ]
    }
   ],
   "source": [
    "from Bio.Seq import Seq\n",
    "my_seq = Seq(\"GATCGATGGGCCTATATAGGATCGAAAATCGC\")\n",
    "print(len(my_seq))\n",
    "\n",
    "print(my_seq.count(\"G\"))\n",
    "\n",
    "print(100 * float(my_seq.count(\"G\") + my_seq.count(\"C\")) / len(my_seq))"
   ]
  },
  {
   "cell_type": "code",
   "execution_count": 7,
   "id": "e4382a1c",
   "metadata": {},
   "outputs": [
    {
     "data": {
      "text/plain": [
       "46.875"
      ]
     },
     "execution_count": 7,
     "metadata": {},
     "output_type": "execute_result"
    }
   ],
   "source": [
    "from Bio.Seq import Seq\n",
    "from Bio.SeqUtils import GC\n",
    "\n",
    "my_seq = Seq(\"GATCGATGGGCCTATATAGGATCGAAAATCGC\")\n",
    "GC(my_seq)"
   ]
  },
  {
   "cell_type": "markdown",
   "id": "3175b291",
   "metadata": {},
   "source": [
    "## 2. Slicing a sequence \n",
    "Everything like strings"
   ]
  },
  {
   "cell_type": "code",
   "execution_count": 11,
   "id": "6112ea5b",
   "metadata": {},
   "outputs": [
    {
     "data": {
      "text/plain": [
       "Seq('GATGGGCC')"
      ]
     },
     "execution_count": 11,
     "metadata": {},
     "output_type": "execute_result"
    }
   ],
   "source": [
    "from Bio.Seq import Seq\n",
    "my_seq = Seq(\"GATCGATGGGCCTATATAGGATCGAAAATCGC\")\n",
    "my_seq[4:12]"
   ]
  },
  {
   "cell_type": "code",
   "execution_count": 12,
   "id": "4392a423",
   "metadata": {},
   "outputs": [
    {
     "data": {
      "text/plain": [
       "Seq('GCTGTAGTAAG')"
      ]
     },
     "execution_count": 12,
     "metadata": {},
     "output_type": "execute_result"
    }
   ],
   "source": [
    "my_seq[0::3]"
   ]
  },
  {
   "cell_type": "code",
   "execution_count": 13,
   "id": "895c7dba",
   "metadata": {},
   "outputs": [
    {
     "data": {
      "text/plain": [
       "Seq('CGCTAAAAGCTAGGATATATCCGGGTAGCTAG')"
      ]
     },
     "execution_count": 13,
     "metadata": {},
     "output_type": "execute_result"
    }
   ],
   "source": [
    "my_seq[::-1]"
   ]
  },
  {
   "cell_type": "markdown",
   "id": "0232f8bc",
   "metadata": {},
   "source": [
    "## 3. Sequence into strings"
   ]
  },
  {
   "cell_type": "code",
   "execution_count": 14,
   "id": "9f93f13f",
   "metadata": {},
   "outputs": [
    {
     "data": {
      "text/plain": [
       "'GATCGATGGGCCTATATAGGATCGAAAATCGC'"
      ]
     },
     "execution_count": 14,
     "metadata": {},
     "output_type": "execute_result"
    }
   ],
   "source": [
    "str(my_seq)"
   ]
  },
  {
   "cell_type": "code",
   "execution_count": 15,
   "id": "83860286",
   "metadata": {},
   "outputs": [
    {
     "name": "stdout",
     "output_type": "stream",
     "text": [
      "GATCGATGGGCCTATATAGGATCGAAAATCGC\n"
     ]
    }
   ],
   "source": [
    "print(my_seq)"
   ]
  },
  {
   "cell_type": "code",
   "execution_count": 16,
   "id": "bd6cac99",
   "metadata": {},
   "outputs": [],
   "source": [
    "fasta_format_string = \">Name\\n%s\\n\" % my_seq"
   ]
  },
  {
   "cell_type": "code",
   "execution_count": 17,
   "id": "2fb303f1",
   "metadata": {},
   "outputs": [
    {
     "data": {
      "text/plain": [
       "'>Name\\nGATCGATGGGCCTATATAGGATCGAAAATCGC\\n'"
      ]
     },
     "execution_count": 17,
     "metadata": {},
     "output_type": "execute_result"
    }
   ],
   "source": [
    "fasta_format_string"
   ]
  },
  {
   "cell_type": "code",
   "execution_count": null,
   "id": "f934d8c8",
   "metadata": {},
   "outputs": [],
   "source": []
  }
 ],
 "metadata": {
  "kernelspec": {
   "display_name": "biopython-research",
   "language": "python",
   "name": "biopython-research"
  },
  "language_info": {
   "codemirror_mode": {
    "name": "ipython",
    "version": 3
   },
   "file_extension": ".py",
   "mimetype": "text/x-python",
   "name": "python",
   "nbconvert_exporter": "python",
   "pygments_lexer": "ipython3",
   "version": "3.8.11"
  }
 },
 "nbformat": 4,
 "nbformat_minor": 5
}
